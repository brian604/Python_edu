{
 "cells": [
  {
   "cell_type": "markdown",
   "metadata": {},
   "source": [
    "https://pandas.pydata.org/pandas-docs/stable/user_guide/style.html"
   ]
  },
  {
   "cell_type": "code",
   "execution_count": 11,
   "metadata": {},
   "outputs": [
    {
     "data": {
      "text/html": [
       "<div>\n",
       "<style scoped>\n",
       "    .dataframe tbody tr th:only-of-type {\n",
       "        vertical-align: middle;\n",
       "    }\n",
       "\n",
       "    .dataframe tbody tr th {\n",
       "        vertical-align: top;\n",
       "    }\n",
       "\n",
       "    .dataframe thead th {\n",
       "        text-align: right;\n",
       "    }\n",
       "</style>\n",
       "<table border=\"1\" class=\"dataframe\">\n",
       "  <thead>\n",
       "    <tr style=\"text-align: right;\">\n",
       "      <th></th>\n",
       "      <th>aa</th>\n",
       "      <th>bb</th>\n",
       "    </tr>\n",
       "  </thead>\n",
       "  <tbody>\n",
       "    <tr>\n",
       "      <th>0</th>\n",
       "      <td>5</td>\n",
       "      <td>-1.000000</td>\n",
       "    </tr>\n",
       "    <tr>\n",
       "      <th>1</th>\n",
       "      <td>50</td>\n",
       "      <td>NaN</td>\n",
       "    </tr>\n",
       "    <tr>\n",
       "      <th>2</th>\n",
       "      <td>500</td>\n",
       "      <td>3.141592</td>\n",
       "    </tr>\n",
       "  </tbody>\n",
       "</table>\n",
       "</div>"
      ],
      "text/plain": [
       "    aa        bb\n",
       "0    5 -1.000000\n",
       "1   50       NaN\n",
       "2  500  3.141592"
      ]
     },
     "execution_count": 11,
     "metadata": {},
     "output_type": "execute_result"
    }
   ],
   "source": [
    "import pandas as pd\n",
    "import numpy as np\n",
    "df = pd.DataFrame({\"aa\": [5, 50, 500],\n",
    "                   \"bb\": [-1, np.nan, 3.141592]})\n",
    "df"
   ]
  },
  {
   "cell_type": "code",
   "execution_count": 12,
   "metadata": {},
   "outputs": [],
   "source": [
    "def color_red(x, value):\n",
    "    color = \"#FF0000\" if x < value else \"#000000\"\n",
    "    return \"color: %s\" % color"
   ]
  },
  {
   "cell_type": "code",
   "execution_count": 13,
   "metadata": {},
   "outputs": [
    {
     "data": {
      "text/html": [
       "<style  type=\"text/css\" >\n",
       "    #T_eb2a5e9a_2bdc_11ea_a400_895beb5d33ddrow0_col0 {\n",
       "            color:  #FF0000;\n",
       "        }    #T_eb2a5e9a_2bdc_11ea_a400_895beb5d33ddrow0_col1 {\n",
       "            color:  #FF0000;\n",
       "        }    #T_eb2a5e9a_2bdc_11ea_a400_895beb5d33ddrow1_col0 {\n",
       "            color:  #000000;\n",
       "        }    #T_eb2a5e9a_2bdc_11ea_a400_895beb5d33ddrow1_col1 {\n",
       "            color:  #000000;\n",
       "        }    #T_eb2a5e9a_2bdc_11ea_a400_895beb5d33ddrow2_col0 {\n",
       "            color:  #000000;\n",
       "        }    #T_eb2a5e9a_2bdc_11ea_a400_895beb5d33ddrow2_col1 {\n",
       "            color:  #FF0000;\n",
       "        }</style><table id=\"T_eb2a5e9a_2bdc_11ea_a400_895beb5d33dd\" ><thead>    <tr>        <th class=\"blank level0\" ></th>        <th class=\"col_heading level0 col0\" >aa</th>        <th class=\"col_heading level0 col1\" >bb</th>    </tr></thead><tbody>\n",
       "                <tr>\n",
       "                        <th id=\"T_eb2a5e9a_2bdc_11ea_a400_895beb5d33ddlevel0_row0\" class=\"row_heading level0 row0\" >0</th>\n",
       "                        <td id=\"T_eb2a5e9a_2bdc_11ea_a400_895beb5d33ddrow0_col0\" class=\"data row0 col0\" >5</td>\n",
       "                        <td id=\"T_eb2a5e9a_2bdc_11ea_a400_895beb5d33ddrow0_col1\" class=\"data row0 col1\" >-1</td>\n",
       "            </tr>\n",
       "            <tr>\n",
       "                        <th id=\"T_eb2a5e9a_2bdc_11ea_a400_895beb5d33ddlevel0_row1\" class=\"row_heading level0 row1\" >1</th>\n",
       "                        <td id=\"T_eb2a5e9a_2bdc_11ea_a400_895beb5d33ddrow1_col0\" class=\"data row1 col0\" >50</td>\n",
       "                        <td id=\"T_eb2a5e9a_2bdc_11ea_a400_895beb5d33ddrow1_col1\" class=\"data row1 col1\" >nan</td>\n",
       "            </tr>\n",
       "            <tr>\n",
       "                        <th id=\"T_eb2a5e9a_2bdc_11ea_a400_895beb5d33ddlevel0_row2\" class=\"row_heading level0 row2\" >2</th>\n",
       "                        <td id=\"T_eb2a5e9a_2bdc_11ea_a400_895beb5d33ddrow2_col0\" class=\"data row2 col0\" >500</td>\n",
       "                        <td id=\"T_eb2a5e9a_2bdc_11ea_a400_895beb5d33ddrow2_col1\" class=\"data row2 col1\" >3.14159</td>\n",
       "            </tr>\n",
       "    </tbody></table>"
      ],
      "text/plain": [
       "<pandas.io.formats.style.Styler at 0x1fb579984e0>"
      ]
     },
     "execution_count": 13,
     "metadata": {},
     "output_type": "execute_result"
    }
   ],
   "source": [
    "df.style.applymap(color_red, value = 30)"
   ]
  },
  {
   "cell_type": "code",
   "execution_count": 14,
   "metadata": {},
   "outputs": [
    {
     "data": {
      "text/html": [
       "<style  type=\"text/css\" >\n",
       "    #T_eb6c21a2_2bdc_11ea_b732_895beb5d33ddrow1_col1 {\n",
       "            background-color:  red;\n",
       "        }</style><table id=\"T_eb6c21a2_2bdc_11ea_b732_895beb5d33dd\" ><thead>    <tr>        <th class=\"blank level0\" ></th>        <th class=\"col_heading level0 col0\" >aa</th>        <th class=\"col_heading level0 col1\" >bb</th>    </tr></thead><tbody>\n",
       "                <tr>\n",
       "                        <th id=\"T_eb6c21a2_2bdc_11ea_b732_895beb5d33ddlevel0_row0\" class=\"row_heading level0 row0\" >0</th>\n",
       "                        <td id=\"T_eb6c21a2_2bdc_11ea_b732_895beb5d33ddrow0_col0\" class=\"data row0 col0\" >5</td>\n",
       "                        <td id=\"T_eb6c21a2_2bdc_11ea_b732_895beb5d33ddrow0_col1\" class=\"data row0 col1\" >-1</td>\n",
       "            </tr>\n",
       "            <tr>\n",
       "                        <th id=\"T_eb6c21a2_2bdc_11ea_b732_895beb5d33ddlevel0_row1\" class=\"row_heading level0 row1\" >1</th>\n",
       "                        <td id=\"T_eb6c21a2_2bdc_11ea_b732_895beb5d33ddrow1_col0\" class=\"data row1 col0\" >50</td>\n",
       "                        <td id=\"T_eb6c21a2_2bdc_11ea_b732_895beb5d33ddrow1_col1\" class=\"data row1 col1\" >nan</td>\n",
       "            </tr>\n",
       "            <tr>\n",
       "                        <th id=\"T_eb6c21a2_2bdc_11ea_b732_895beb5d33ddlevel0_row2\" class=\"row_heading level0 row2\" >2</th>\n",
       "                        <td id=\"T_eb6c21a2_2bdc_11ea_b732_895beb5d33ddrow2_col0\" class=\"data row2 col0\" >500</td>\n",
       "                        <td id=\"T_eb6c21a2_2bdc_11ea_b732_895beb5d33ddrow2_col1\" class=\"data row2 col1\" >3.14159</td>\n",
       "            </tr>\n",
       "    </tbody></table>"
      ],
      "text/plain": [
       "<pandas.io.formats.style.Styler at 0x1fb58356e48>"
      ]
     },
     "execution_count": 14,
     "metadata": {},
     "output_type": "execute_result"
    }
   ],
   "source": [
    "df.style.highlight_null()"
   ]
  },
  {
   "cell_type": "code",
   "execution_count": 15,
   "metadata": {},
   "outputs": [
    {
     "data": {
      "text/html": [
       "<style  type=\"text/css\" >\n",
       "    #T_ebaf4b02_2bdc_11ea_a22f_895beb5d33ddrow1_col1 {\n",
       "            background-color:  #00FF00;\n",
       "        }</style><table id=\"T_ebaf4b02_2bdc_11ea_a22f_895beb5d33dd\" ><thead>    <tr>        <th class=\"blank level0\" ></th>        <th class=\"col_heading level0 col0\" >aa</th>        <th class=\"col_heading level0 col1\" >bb</th>    </tr></thead><tbody>\n",
       "                <tr>\n",
       "                        <th id=\"T_ebaf4b02_2bdc_11ea_a22f_895beb5d33ddlevel0_row0\" class=\"row_heading level0 row0\" >0</th>\n",
       "                        <td id=\"T_ebaf4b02_2bdc_11ea_a22f_895beb5d33ddrow0_col0\" class=\"data row0 col0\" >5</td>\n",
       "                        <td id=\"T_ebaf4b02_2bdc_11ea_a22f_895beb5d33ddrow0_col1\" class=\"data row0 col1\" >-1</td>\n",
       "            </tr>\n",
       "            <tr>\n",
       "                        <th id=\"T_ebaf4b02_2bdc_11ea_a22f_895beb5d33ddlevel0_row1\" class=\"row_heading level0 row1\" >1</th>\n",
       "                        <td id=\"T_ebaf4b02_2bdc_11ea_a22f_895beb5d33ddrow1_col0\" class=\"data row1 col0\" >50</td>\n",
       "                        <td id=\"T_ebaf4b02_2bdc_11ea_a22f_895beb5d33ddrow1_col1\" class=\"data row1 col1\" >nan</td>\n",
       "            </tr>\n",
       "            <tr>\n",
       "                        <th id=\"T_ebaf4b02_2bdc_11ea_a22f_895beb5d33ddlevel0_row2\" class=\"row_heading level0 row2\" >2</th>\n",
       "                        <td id=\"T_ebaf4b02_2bdc_11ea_a22f_895beb5d33ddrow2_col0\" class=\"data row2 col0\" >500</td>\n",
       "                        <td id=\"T_ebaf4b02_2bdc_11ea_a22f_895beb5d33ddrow2_col1\" class=\"data row2 col1\" >3.14159</td>\n",
       "            </tr>\n",
       "    </tbody></table>"
      ],
      "text/plain": [
       "<pandas.io.formats.style.Styler at 0x1fb579a1630>"
      ]
     },
     "execution_count": 15,
     "metadata": {},
     "output_type": "execute_result"
    }
   ],
   "source": [
    "df.style.highlight_null(null_color = \"#00FF00\")"
   ]
  },
  {
   "cell_type": "code",
   "execution_count": 16,
   "metadata": {},
   "outputs": [],
   "source": [
    "def highlight_max(x, color):\n",
    "    is_max = x == x.max()\n",
    "    return [\"background-color: \" + color if x else \"\" for x in is_max]"
   ]
  },
  {
   "cell_type": "code",
   "execution_count": 17,
   "metadata": {},
   "outputs": [
    {
     "data": {
      "text/html": [
       "<style  type=\"text/css\" >\n",
       "    #T_ec31a538_2bdc_11ea_8d4d_895beb5d33ddrow2_col0 {\n",
       "            background-color:  #8888FF;\n",
       "        }    #T_ec31a538_2bdc_11ea_8d4d_895beb5d33ddrow2_col1 {\n",
       "            background-color:  #8888FF;\n",
       "        }</style><table id=\"T_ec31a538_2bdc_11ea_8d4d_895beb5d33dd\" ><thead>    <tr>        <th class=\"blank level0\" ></th>        <th class=\"col_heading level0 col0\" >aa</th>        <th class=\"col_heading level0 col1\" >bb</th>    </tr></thead><tbody>\n",
       "                <tr>\n",
       "                        <th id=\"T_ec31a538_2bdc_11ea_8d4d_895beb5d33ddlevel0_row0\" class=\"row_heading level0 row0\" >0</th>\n",
       "                        <td id=\"T_ec31a538_2bdc_11ea_8d4d_895beb5d33ddrow0_col0\" class=\"data row0 col0\" >5</td>\n",
       "                        <td id=\"T_ec31a538_2bdc_11ea_8d4d_895beb5d33ddrow0_col1\" class=\"data row0 col1\" >-1</td>\n",
       "            </tr>\n",
       "            <tr>\n",
       "                        <th id=\"T_ec31a538_2bdc_11ea_8d4d_895beb5d33ddlevel0_row1\" class=\"row_heading level0 row1\" >1</th>\n",
       "                        <td id=\"T_ec31a538_2bdc_11ea_8d4d_895beb5d33ddrow1_col0\" class=\"data row1 col0\" >50</td>\n",
       "                        <td id=\"T_ec31a538_2bdc_11ea_8d4d_895beb5d33ddrow1_col1\" class=\"data row1 col1\" >nan</td>\n",
       "            </tr>\n",
       "            <tr>\n",
       "                        <th id=\"T_ec31a538_2bdc_11ea_8d4d_895beb5d33ddlevel0_row2\" class=\"row_heading level0 row2\" >2</th>\n",
       "                        <td id=\"T_ec31a538_2bdc_11ea_8d4d_895beb5d33ddrow2_col0\" class=\"data row2 col0\" >500</td>\n",
       "                        <td id=\"T_ec31a538_2bdc_11ea_8d4d_895beb5d33ddrow2_col1\" class=\"data row2 col1\" >3.14159</td>\n",
       "            </tr>\n",
       "    </tbody></table>"
      ],
      "text/plain": [
       "<pandas.io.formats.style.Styler at 0x1fb579758d0>"
      ]
     },
     "execution_count": 17,
     "metadata": {},
     "output_type": "execute_result"
    }
   ],
   "source": [
    "df.style.apply(highlight_max, color = \"#8888FF\")"
   ]
  },
  {
   "cell_type": "code",
   "execution_count": 18,
   "metadata": {},
   "outputs": [
    {
     "data": {
      "text/html": [
       "<style  type=\"text/css\" >\n",
       "    #T_ec783214_2bdc_11ea_804d_895beb5d33ddrow0_col0 {\n",
       "            background-color:  #8888FF;\n",
       "        }    #T_ec783214_2bdc_11ea_804d_895beb5d33ddrow1_col0 {\n",
       "            background-color:  #8888FF;\n",
       "        }    #T_ec783214_2bdc_11ea_804d_895beb5d33ddrow2_col0 {\n",
       "            background-color:  #8888FF;\n",
       "        }</style><table id=\"T_ec783214_2bdc_11ea_804d_895beb5d33dd\" ><thead>    <tr>        <th class=\"blank level0\" ></th>        <th class=\"col_heading level0 col0\" >aa</th>        <th class=\"col_heading level0 col1\" >bb</th>    </tr></thead><tbody>\n",
       "                <tr>\n",
       "                        <th id=\"T_ec783214_2bdc_11ea_804d_895beb5d33ddlevel0_row0\" class=\"row_heading level0 row0\" >0</th>\n",
       "                        <td id=\"T_ec783214_2bdc_11ea_804d_895beb5d33ddrow0_col0\" class=\"data row0 col0\" >5</td>\n",
       "                        <td id=\"T_ec783214_2bdc_11ea_804d_895beb5d33ddrow0_col1\" class=\"data row0 col1\" >-1</td>\n",
       "            </tr>\n",
       "            <tr>\n",
       "                        <th id=\"T_ec783214_2bdc_11ea_804d_895beb5d33ddlevel0_row1\" class=\"row_heading level0 row1\" >1</th>\n",
       "                        <td id=\"T_ec783214_2bdc_11ea_804d_895beb5d33ddrow1_col0\" class=\"data row1 col0\" >50</td>\n",
       "                        <td id=\"T_ec783214_2bdc_11ea_804d_895beb5d33ddrow1_col1\" class=\"data row1 col1\" >nan</td>\n",
       "            </tr>\n",
       "            <tr>\n",
       "                        <th id=\"T_ec783214_2bdc_11ea_804d_895beb5d33ddlevel0_row2\" class=\"row_heading level0 row2\" >2</th>\n",
       "                        <td id=\"T_ec783214_2bdc_11ea_804d_895beb5d33ddrow2_col0\" class=\"data row2 col0\" >500</td>\n",
       "                        <td id=\"T_ec783214_2bdc_11ea_804d_895beb5d33ddrow2_col1\" class=\"data row2 col1\" >3.14159</td>\n",
       "            </tr>\n",
       "    </tbody></table>"
      ],
      "text/plain": [
       "<pandas.io.formats.style.Styler at 0x1fb57987d30>"
      ]
     },
     "execution_count": 18,
     "metadata": {},
     "output_type": "execute_result"
    }
   ],
   "source": [
    "df.style.apply(highlight_max, color = \"#8888FF\", axis = 1)"
   ]
  },
  {
   "cell_type": "code",
   "execution_count": 21,
   "metadata": {},
   "outputs": [
    {
     "data": {
      "text/html": [
       "<style  type=\"text/css\" >\n",
       "</style><table id=\"T_0eae7208_2bdd_11ea_b954_895beb5d33dd\" ><thead>    <tr>        <th class=\"blank level0\" ></th>        <th class=\"col_heading level0 col0\" >aa</th>        <th class=\"col_heading level0 col1\" >bb</th>    </tr></thead><tbody>\n",
       "                <tr>\n",
       "                        <th id=\"T_0eae7208_2bdd_11ea_b954_895beb5d33ddlevel0_row0\" class=\"row_heading level0 row0\" >0</th>\n",
       "                        <td id=\"T_0eae7208_2bdd_11ea_b954_895beb5d33ddrow0_col0\" class=\"data row0 col0\" > 500.00%</td>\n",
       "                        <td id=\"T_0eae7208_2bdd_11ea_b954_895beb5d33ddrow0_col1\" class=\"data row0 col1\" >-100.00%</td>\n",
       "            </tr>\n",
       "            <tr>\n",
       "                        <th id=\"T_0eae7208_2bdd_11ea_b954_895beb5d33ddlevel0_row1\" class=\"row_heading level0 row1\" >1</th>\n",
       "                        <td id=\"T_0eae7208_2bdd_11ea_b954_895beb5d33ddrow1_col0\" class=\"data row1 col0\" > 5000.00%</td>\n",
       "                        <td id=\"T_0eae7208_2bdd_11ea_b954_895beb5d33ddrow1_col1\" class=\"data row1 col1\" > nan%</td>\n",
       "            </tr>\n",
       "            <tr>\n",
       "                        <th id=\"T_0eae7208_2bdd_11ea_b954_895beb5d33ddlevel0_row2\" class=\"row_heading level0 row2\" >2</th>\n",
       "                        <td id=\"T_0eae7208_2bdd_11ea_b954_895beb5d33ddrow2_col0\" class=\"data row2 col0\" > 50000.00%</td>\n",
       "                        <td id=\"T_0eae7208_2bdd_11ea_b954_895beb5d33ddrow2_col1\" class=\"data row2 col1\" > 314.16%</td>\n",
       "            </tr>\n",
       "    </tbody></table>"
      ],
      "text/plain": [
       "<pandas.io.formats.style.Styler at 0x1fb579941d0>"
      ]
     },
     "execution_count": 21,
     "metadata": {},
     "output_type": "execute_result"
    }
   ],
   "source": [
    "df.style.format(\"{: 0.2%}\")"
   ]
  },
  {
   "cell_type": "code",
   "execution_count": 22,
   "metadata": {},
   "outputs": [
    {
     "data": {
      "text/html": [
       "<style  type=\"text/css\" >\n",
       "</style><table id=\"T_151c8586_2bdd_11ea_8318_895beb5d33dd\" ><thead>    <tr>        <th class=\"blank level0\" ></th>        <th class=\"col_heading level0 col0\" >aa</th>        <th class=\"col_heading level0 col1\" >bb</th>    </tr></thead><tbody>\n",
       "                <tr>\n",
       "                        <th id=\"T_151c8586_2bdd_11ea_8318_895beb5d33ddlevel0_row0\" class=\"row_heading level0 row0\" >0</th>\n",
       "                        <td id=\"T_151c8586_2bdd_11ea_8318_895beb5d33ddrow0_col0\" class=\"data row0 col0\" >5</td>\n",
       "                        <td id=\"T_151c8586_2bdd_11ea_8318_895beb5d33ddrow0_col1\" class=\"data row0 col1\" >-100.00%</td>\n",
       "            </tr>\n",
       "            <tr>\n",
       "                        <th id=\"T_151c8586_2bdd_11ea_8318_895beb5d33ddlevel0_row1\" class=\"row_heading level0 row1\" >1</th>\n",
       "                        <td id=\"T_151c8586_2bdd_11ea_8318_895beb5d33ddrow1_col0\" class=\"data row1 col0\" >50</td>\n",
       "                        <td id=\"T_151c8586_2bdd_11ea_8318_895beb5d33ddrow1_col1\" class=\"data row1 col1\" > nan%</td>\n",
       "            </tr>\n",
       "            <tr>\n",
       "                        <th id=\"T_151c8586_2bdd_11ea_8318_895beb5d33ddlevel0_row2\" class=\"row_heading level0 row2\" >2</th>\n",
       "                        <td id=\"T_151c8586_2bdd_11ea_8318_895beb5d33ddrow2_col0\" class=\"data row2 col0\" >500</td>\n",
       "                        <td id=\"T_151c8586_2bdd_11ea_8318_895beb5d33ddrow2_col1\" class=\"data row2 col1\" > 314.16%</td>\n",
       "            </tr>\n",
       "    </tbody></table>"
      ],
      "text/plain": [
       "<pandas.io.formats.style.Styler at 0x1fb57991cc0>"
      ]
     },
     "execution_count": 22,
     "metadata": {},
     "output_type": "execute_result"
    }
   ],
   "source": [
    "df.style.format(\"{: 0.2%}\", subset = [\"bb\"])"
   ]
  },
  {
   "cell_type": "code",
   "execution_count": 30,
   "metadata": {},
   "outputs": [
    {
     "data": {
      "text/html": [
       "<style  type=\"text/css\" >\n",
       "    #T_a2234134_2bdd_11ea_ba2c_895beb5d33ddrow0_col0 {\n",
       "            width:  10em;\n",
       "             height:  80%;\n",
       "        }    #T_a2234134_2bdd_11ea_ba2c_895beb5d33ddrow1_col0 {\n",
       "            width:  10em;\n",
       "             height:  80%;\n",
       "            background:  linear-gradient(90deg,#0000FF55 9.1%, transparent 9.1%);\n",
       "        }    #T_a2234134_2bdd_11ea_ba2c_895beb5d33ddrow2_col0 {\n",
       "            width:  10em;\n",
       "             height:  80%;\n",
       "            background:  linear-gradient(90deg,#0000FF55 100.0%, transparent 100.0%);\n",
       "        }</style><table id=\"T_a2234134_2bdd_11ea_ba2c_895beb5d33dd\" ><thead>    <tr>        <th class=\"blank level0\" ></th>        <th class=\"col_heading level0 col0\" >aa</th>        <th class=\"col_heading level0 col1\" >bb</th>    </tr></thead><tbody>\n",
       "                <tr>\n",
       "                        <th id=\"T_a2234134_2bdd_11ea_ba2c_895beb5d33ddlevel0_row0\" class=\"row_heading level0 row0\" >0</th>\n",
       "                        <td id=\"T_a2234134_2bdd_11ea_ba2c_895beb5d33ddrow0_col0\" class=\"data row0 col0\" >5</td>\n",
       "                        <td id=\"T_a2234134_2bdd_11ea_ba2c_895beb5d33ddrow0_col1\" class=\"data row0 col1\" >-1</td>\n",
       "            </tr>\n",
       "            <tr>\n",
       "                        <th id=\"T_a2234134_2bdd_11ea_ba2c_895beb5d33ddlevel0_row1\" class=\"row_heading level0 row1\" >1</th>\n",
       "                        <td id=\"T_a2234134_2bdd_11ea_ba2c_895beb5d33ddrow1_col0\" class=\"data row1 col0\" >50</td>\n",
       "                        <td id=\"T_a2234134_2bdd_11ea_ba2c_895beb5d33ddrow1_col1\" class=\"data row1 col1\" >nan</td>\n",
       "            </tr>\n",
       "            <tr>\n",
       "                        <th id=\"T_a2234134_2bdd_11ea_ba2c_895beb5d33ddlevel0_row2\" class=\"row_heading level0 row2\" >2</th>\n",
       "                        <td id=\"T_a2234134_2bdd_11ea_ba2c_895beb5d33ddrow2_col0\" class=\"data row2 col0\" >500</td>\n",
       "                        <td id=\"T_a2234134_2bdd_11ea_ba2c_895beb5d33ddrow2_col1\" class=\"data row2 col1\" >3.14159</td>\n",
       "            </tr>\n",
       "    </tbody></table>"
      ],
      "text/plain": [
       "<pandas.io.formats.style.Styler at 0x1fb579911d0>"
      ]
     },
     "execution_count": 30,
     "metadata": {},
     "output_type": "execute_result"
    }
   ],
   "source": [
    "df.style.bar(subset = [\"aa\"], color='#0000FF55')"
   ]
  },
  {
   "cell_type": "code",
   "execution_count": 33,
   "metadata": {},
   "outputs": [
    {
     "data": {
      "text/html": [
       "<style  type=\"text/css\" >\n",
       "    #T_fccfd4ac_2bdf_11ea_b6fc_895beb5d33ddrow0_col0 {\n",
       "            color:  #FF0000;\n",
       "            : ;\n",
       "        }    #T_fccfd4ac_2bdf_11ea_b6fc_895beb5d33ddrow0_col1 {\n",
       "            color:  #FF0000;\n",
       "            : ;\n",
       "        }    #T_fccfd4ac_2bdf_11ea_b6fc_895beb5d33ddrow1_col0 {\n",
       "            color:  #000000;\n",
       "            : ;\n",
       "        }    #T_fccfd4ac_2bdf_11ea_b6fc_895beb5d33ddrow1_col1 {\n",
       "            color:  #000000;\n",
       "            : ;\n",
       "        }    #T_fccfd4ac_2bdf_11ea_b6fc_895beb5d33ddrow2_col0 {\n",
       "            color:  #000000;\n",
       "            background-color:  #8888FF;\n",
       "        }    #T_fccfd4ac_2bdf_11ea_b6fc_895beb5d33ddrow2_col1 {\n",
       "            color:  #FF0000;\n",
       "            background-color:  #8888FF;\n",
       "        }</style><table id=\"T_fccfd4ac_2bdf_11ea_b6fc_895beb5d33dd\" ><thead>    <tr>        <th class=\"blank level0\" ></th>        <th class=\"col_heading level0 col0\" >aa</th>        <th class=\"col_heading level0 col1\" >bb</th>    </tr></thead><tbody>\n",
       "                <tr>\n",
       "                        <th id=\"T_fccfd4ac_2bdf_11ea_b6fc_895beb5d33ddlevel0_row0\" class=\"row_heading level0 row0\" >0</th>\n",
       "                        <td id=\"T_fccfd4ac_2bdf_11ea_b6fc_895beb5d33ddrow0_col0\" class=\"data row0 col0\" >5</td>\n",
       "                        <td id=\"T_fccfd4ac_2bdf_11ea_b6fc_895beb5d33ddrow0_col1\" class=\"data row0 col1\" >-1</td>\n",
       "            </tr>\n",
       "            <tr>\n",
       "                        <th id=\"T_fccfd4ac_2bdf_11ea_b6fc_895beb5d33ddlevel0_row1\" class=\"row_heading level0 row1\" >1</th>\n",
       "                        <td id=\"T_fccfd4ac_2bdf_11ea_b6fc_895beb5d33ddrow1_col0\" class=\"data row1 col0\" >50</td>\n",
       "                        <td id=\"T_fccfd4ac_2bdf_11ea_b6fc_895beb5d33ddrow1_col1\" class=\"data row1 col1\" >nan</td>\n",
       "            </tr>\n",
       "            <tr>\n",
       "                        <th id=\"T_fccfd4ac_2bdf_11ea_b6fc_895beb5d33ddlevel0_row2\" class=\"row_heading level0 row2\" >2</th>\n",
       "                        <td id=\"T_fccfd4ac_2bdf_11ea_b6fc_895beb5d33ddrow2_col0\" class=\"data row2 col0\" >500</td>\n",
       "                        <td id=\"T_fccfd4ac_2bdf_11ea_b6fc_895beb5d33ddrow2_col1\" class=\"data row2 col1\" >3.1</td>\n",
       "            </tr>\n",
       "    </tbody></table>"
      ],
      "text/plain": [
       "<pandas.io.formats.style.Styler at 0x1fb57afc1d0>"
      ]
     },
     "execution_count": 33,
     "metadata": {},
     "output_type": "execute_result"
    }
   ],
   "source": [
    "df.style\\\n",
    "  .applymap(color_red, value = 30)\\\n",
    "  .apply(highlight_max, color = \"#8888FF\")\\\n",
    "  .set_precision(2)"
   ]
  },
  {
   "cell_type": "code",
   "execution_count": 38,
   "metadata": {},
   "outputs": [
    {
     "data": {
      "text/html": [
       "<style  type=\"text/css\" >\n",
       "    #T_1c8c1982_2be0_11ea_bc6a_895beb5d33ddrow0_col0 {\n",
       "            color:  #FF0000;\n",
       "            : ;\n",
       "        }    #T_1c8c1982_2be0_11ea_bc6a_895beb5d33ddrow0_col1 {\n",
       "            color:  #FF0000;\n",
       "            : ;\n",
       "        }    #T_1c8c1982_2be0_11ea_bc6a_895beb5d33ddrow1_col0 {\n",
       "            color:  #000000;\n",
       "            : ;\n",
       "        }    #T_1c8c1982_2be0_11ea_bc6a_895beb5d33ddrow1_col1 {\n",
       "            color:  #000000;\n",
       "            : ;\n",
       "        }    #T_1c8c1982_2be0_11ea_bc6a_895beb5d33ddrow2_col0 {\n",
       "            color:  #000000;\n",
       "            background-color:  #8888FF;\n",
       "        }    #T_1c8c1982_2be0_11ea_bc6a_895beb5d33ddrow2_col1 {\n",
       "            color:  #FF0000;\n",
       "            background-color:  #8888FF;\n",
       "        }</style><table id=\"T_1c8c1982_2be0_11ea_bc6a_895beb5d33dd\" ><thead>    <tr>        <th class=\"blank level0\" ></th>        <th class=\"col_heading level0 col0\" >aa</th>        <th class=\"col_heading level0 col1\" >bb</th>    </tr></thead><tbody>\n",
       "                <tr>\n",
       "                        <th id=\"T_1c8c1982_2be0_11ea_bc6a_895beb5d33ddlevel0_row0\" class=\"row_heading level0 row0\" >0</th>\n",
       "                        <td id=\"T_1c8c1982_2be0_11ea_bc6a_895beb5d33ddrow0_col0\" class=\"data row0 col0\" >5</td>\n",
       "                        <td id=\"T_1c8c1982_2be0_11ea_bc6a_895beb5d33ddrow0_col1\" class=\"data row0 col1\" >-1</td>\n",
       "            </tr>\n",
       "            <tr>\n",
       "                        <th id=\"T_1c8c1982_2be0_11ea_bc6a_895beb5d33ddlevel0_row1\" class=\"row_heading level0 row1\" >1</th>\n",
       "                        <td id=\"T_1c8c1982_2be0_11ea_bc6a_895beb5d33ddrow1_col0\" class=\"data row1 col0\" >50</td>\n",
       "                        <td id=\"T_1c8c1982_2be0_11ea_bc6a_895beb5d33ddrow1_col1\" class=\"data row1 col1\" >nan</td>\n",
       "            </tr>\n",
       "            <tr>\n",
       "                        <th id=\"T_1c8c1982_2be0_11ea_bc6a_895beb5d33ddlevel0_row2\" class=\"row_heading level0 row2\" >2</th>\n",
       "                        <td id=\"T_1c8c1982_2be0_11ea_bc6a_895beb5d33ddrow2_col0\" class=\"data row2 col0\" >500</td>\n",
       "                        <td id=\"T_1c8c1982_2be0_11ea_bc6a_895beb5d33ddrow2_col1\" class=\"data row2 col1\" >3.14159</td>\n",
       "            </tr>\n",
       "    </tbody></table>"
      ],
      "text/plain": [
       "<pandas.io.formats.style.Styler at 0x1fb57afcb38>"
      ]
     },
     "execution_count": 38,
     "metadata": {},
     "output_type": "execute_result"
    }
   ],
   "source": [
    "df.style.applymap(color_red, value = 30).apply(highlight_max, color = \"#8888FF\")"
   ]
  },
  {
   "cell_type": "code",
   "execution_count": 39,
   "metadata": {},
   "outputs": [
    {
     "data": {
      "text/html": [
       "<style  type=\"text/css\" >\n",
       "    #T_1d04daee_2be0_11ea_af0c_895beb5d33ddrow0_col0 {\n",
       "            color:  #FF0000;\n",
       "            : ;\n",
       "        }    #T_1d04daee_2be0_11ea_af0c_895beb5d33ddrow0_col1 {\n",
       "            color:  #FF0000;\n",
       "            : ;\n",
       "        }    #T_1d04daee_2be0_11ea_af0c_895beb5d33ddrow1_col0 {\n",
       "            color:  #000000;\n",
       "            : ;\n",
       "        }    #T_1d04daee_2be0_11ea_af0c_895beb5d33ddrow1_col1 {\n",
       "            color:  #000000;\n",
       "            : ;\n",
       "        }    #T_1d04daee_2be0_11ea_af0c_895beb5d33ddrow2_col0 {\n",
       "            color:  #000000;\n",
       "            background-color:  #8888FF;\n",
       "        }    #T_1d04daee_2be0_11ea_af0c_895beb5d33ddrow2_col1 {\n",
       "            color:  #FF0000;\n",
       "            background-color:  #8888FF;\n",
       "        }</style><table id=\"T_1d04daee_2be0_11ea_af0c_895beb5d33dd\" ><thead>    <tr>        <th class=\"blank level0\" ></th>        <th class=\"col_heading level0 col0\" >aa</th>        <th class=\"col_heading level0 col1\" >bb</th>    </tr></thead><tbody>\n",
       "                <tr>\n",
       "                        <th id=\"T_1d04daee_2be0_11ea_af0c_895beb5d33ddlevel0_row0\" class=\"row_heading level0 row0\" >0</th>\n",
       "                        <td id=\"T_1d04daee_2be0_11ea_af0c_895beb5d33ddrow0_col0\" class=\"data row0 col0\" >5</td>\n",
       "                        <td id=\"T_1d04daee_2be0_11ea_af0c_895beb5d33ddrow0_col1\" class=\"data row0 col1\" >-1</td>\n",
       "            </tr>\n",
       "            <tr>\n",
       "                        <th id=\"T_1d04daee_2be0_11ea_af0c_895beb5d33ddlevel0_row1\" class=\"row_heading level0 row1\" >1</th>\n",
       "                        <td id=\"T_1d04daee_2be0_11ea_af0c_895beb5d33ddrow1_col0\" class=\"data row1 col0\" >50</td>\n",
       "                        <td id=\"T_1d04daee_2be0_11ea_af0c_895beb5d33ddrow1_col1\" class=\"data row1 col1\" >nan</td>\n",
       "            </tr>\n",
       "            <tr>\n",
       "                        <th id=\"T_1d04daee_2be0_11ea_af0c_895beb5d33ddlevel0_row2\" class=\"row_heading level0 row2\" >2</th>\n",
       "                        <td id=\"T_1d04daee_2be0_11ea_af0c_895beb5d33ddrow2_col0\" class=\"data row2 col0\" >500</td>\n",
       "                        <td id=\"T_1d04daee_2be0_11ea_af0c_895beb5d33ddrow2_col1\" class=\"data row2 col1\" >3.14159</td>\n",
       "            </tr>\n",
       "    </tbody></table>"
      ],
      "text/plain": [
       "<pandas.io.formats.style.Styler at 0x1fb57afcc50>"
      ]
     },
     "execution_count": 39,
     "metadata": {},
     "output_type": "execute_result"
    }
   ],
   "source": [
    "df.style\\\n",
    "  .applymap(color_red, value = 30)\\\n",
    "  .apply(highlight_max, color = \"#8888FF\")"
   ]
  },
  {
   "cell_type": "code",
   "execution_count": null,
   "metadata": {},
   "outputs": [],
   "source": []
  }
 ],
 "metadata": {
  "kernelspec": {
   "display_name": "Python 3",
   "language": "python",
   "name": "python3"
  },
  "language_info": {
   "codemirror_mode": {
    "name": "ipython",
    "version": 3
   },
   "file_extension": ".py",
   "mimetype": "text/x-python",
   "name": "python",
   "nbconvert_exporter": "python",
   "pygments_lexer": "ipython3",
   "version": "3.7.3"
  }
 },
 "nbformat": 4,
 "nbformat_minor": 2
}
