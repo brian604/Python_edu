{
 "cells": [
  {
   "cell_type": "markdown",
   "metadata": {},
   "source": [
    "# cron을 이용한 정기적인 크롤링\n",
    "<br>\n",
    " - 주기적으로 변경되는 데이터를 사용할 때는 정기적으로 데이터를 크롤링 해야 합니다.\n",
    " - macOS와 Linux에서는 \"cron\"이라는 데몬 프로세스를 사용해 정기적으로 데이터를 크롤링할 수 있습니다.\n",
    " - 윈도우에는 \"작업스케쥴러(Task Scheduler)\"라는 기능이 있습니다.\n",
    " \n",
    "### 정기 실행의 장점\n",
    "\n",
    "일반적으로 cron으로 다음과 같은 작업을 수행합니다.\n",
    "\n",
    " 1. 데이터 수집과 같은 애플리케이션에서 필요한 정기적인 처리\n",
    " 2. 로그, 백업과 같은 시스템에서 필요한 정기적인 처리\n",
    " 3. 시스템이 제대로 동작하고 있는지 정기적으로 감시하는 처리\n",
    " \n",
    "여기서는 1번을 다룹니다."
   ]
  },
  {
   "cell_type": "markdown",
   "metadata": {},
   "source": [
    "<hr>"
   ]
  },
  {
   "cell_type": "markdown",
   "metadata": {},
   "source": [
    "### 매일 환률 정보 저장하기\n",
    "\n",
    "네이버 금융의 환률 정보를 추출하는 프로그램을 만들어 봅시다."
   ]
  },
  {
   "cell_type": "code",
   "execution_count": 11,
   "metadata": {},
   "outputs": [
    {
     "name": "stdout",
     "output_type": "stream",
     "text": [
      "usd/krw 1,132.70\n"
     ]
    }
   ],
   "source": [
    "# !pip install bs4\n",
    "from bs4 import BeautifulSoup\n",
    "import urllib.request as req\n",
    "import datetime\n",
    "\n",
    "url = \"http://info.finance.naver.com/marketindex/\"\n",
    "res = req.urlopen(url)\n",
    "\n",
    "soup = BeautifulSoup(res, \"html.parser\")\n",
    "# print(soup)\n",
    "price = soup.select_one(\"div.head_info > span.value\").string\n",
    "print(\"usd/krw\", price)\n",
    "\n",
    "t = datetime.date.today()\n",
    "fname = t.strftime(\"%Y-%m-%d\") + \".txt\"\n",
    "with open(fname, \"w\", encoding = \"UTF-8\") as f:\n",
    "    f.write(price)"
   ]
  },
  {
   "cell_type": "markdown",
   "metadata": {},
   "source": [
    "<hr>"
   ]
  },
  {
   "cell_type": "markdown",
   "metadata": {},
   "source": [
    "### cron으로 매일 한 번 실행하기\n",
    "\n",
    "UNIX 계열의 OS라면 대부분 cron이 기본적으로 설치돼 있습니다. <br>\n",
    "cron을 사용하려면 설정 파일에 특정한 형식으로 실행 간격을 지정하면 됩니다.\n",
    "\n",
    "#### \"nano\"에디터 설치하기\n",
    "\n",
    "cron을 설정하려면 터미널에서 crontab이라는 명령어를 실행해 파일을 열고 편집해야 합니다. 기본적으로는 \"vi\"에디터가 실행됩니다. <br>\n",
    "vi 조작이 익숙하지 않은 독자라면 \"nano\"를 설치해서 사용하기 바랍니다. <br>\n",
    "가상환경을 포함해 Ununtu를 사용하고 있다면 다음과 같은 명령어를 실행해주세요.\n",
    "\n",
    "> <b>$ sudo apt-get install nano</b>\n",
    "\n",
    "터미널로 홈 폴더에 있는 \".bash_profile\"이라는 설정 파일을 nano로 편집하는 명령어는 아래와 같습니다.\n",
    "\n",
    "> <b>$nano ~/.bash_profile</b>\n",
    "\n",
    "nano가 실행되면 파일 뒤에 다음과 같은 한 줄을 추가합니다.\n",
    "\n",
    "> <b>export EDITOR=nano</b>"
   ]
  },
  {
   "cell_type": "markdown",
   "metadata": {},
   "source": [
    "#### crontab으로 cron 설정하기\n",
    "\n",
    "crontab을 실행할 때 \"-e\" 옵션을 추가해서 실행합니다. 이렇게 하면 cron설정 화면이 열립니다. <br>\n",
    "처음 \"crontab\"을 실행했다면 아무것도 작성되지 않은 설정 파일이 열립니다.\n",
    "\n",
    "> <b>crontab -e</b>\n",
    "\n",
    "매일 아침 7시에 \"evertday-dollar.py\"를 실행하는 프로그램을 실행한다면 다음과 같이 입력합니다.\n",
    "\n",
    "> <b>0 7 * * * python3 /home/test/everyday-dollar.py</b>\n",
    "\n",
    "다만 crontab에 지정하는 환경변수는 우변을 따로 전개하지 않으므로 주의하기 바랍니다.\n",
    "\n",
    "> #잘못된 지정 방식 <br>\n",
    "> PATH=/usr/local/bin:$PATH\n",
    "\n",
    "> #정상적인 지정 방식 <br>\n",
    "> PATH=/usr/local/bin:/usr/bin:/bin\n"
   ]
  },
  {
   "cell_type": "markdown",
   "metadata": {},
   "source": [
    "### crontab 설정 방법\n",
    "\n",
    "> [서식] crontab <br>\n",
    "> (분) (시) (일) (월) (요일) <실행할 명령어의 경로>"
   ]
  },
  {
   "cell_type": "markdown",
   "metadata": {},
   "source": [
    "<img src = \"crontab_syntax.png\">"
   ]
  },
  {
   "cell_type": "markdown",
   "metadata": {},
   "source": [
    "구체적인 설정 예시\n",
    "\n",
    " - macOS에서 매 분마다 \"Hi\"라고 이야기하는 프로그램\n",
    "> <b>* * * * * /usr/bin/say \"Hi</b>\n",
    "\n",
    " - 매일 아침 8시 30분에 \"Good morning\"이라고 인사하는 예\n",
    "> <b>30 8 * * * /usr/bin/say \"Good morning\"</b>\n",
    "\n",
    " - 매월 30일 18시 32분에 /home/hoge/fuga.sh 라는 프로그램을 실행하는 예\n",
    "> <b>32 18 20 * * /home/hoge/fuga.sh</b>\n",
    "\n",
    " - 매년 5월 6일 7시 8분에 \"Have a nice day\"라고 인사하는 예\n",
    "> <b>08 07 06 05 * /usr/bin/say \"Have a nice day\"</b>\n",
    "\n",
    " - 다음은 매주 월요일 아침 7시 50분에 \"쓰레기 버리는 날입니다!\" 라고 알려주는 설정 예\n",
    "> <b>50 07 * * 1 /usr/bin/say \"쓰레기 버리는 날입니다!\"</b>"
   ]
  },
  {
   "cell_type": "markdown",
   "metadata": {},
   "source": [
    "cron으로 요일을 지정할 떄는 다음과 같은 숫자를 지정합니다.\n",
    "\n",
    "월요일 = 1 <br>\n",
    "화요일 = 2 <br>\n",
    "수요일 = 3 <br>\n",
    "목요일 = 4 <br>\n",
    "금요일 = 5 <br>\n",
    "토요일 = 6 <br>\n",
    "일요일 = 7 또는 0"
   ]
  },
  {
   "cell_type": "markdown",
   "metadata": {},
   "source": [
    "매월 마지막 날에 뭔가를 하고싶은 경우에는 기본적인 crontab으로는 지정할 수 없습니다. <br>\n",
    "하지만 test 명령어와 조합해서 사용하면 매월 마지막 날을 검출할 수 있습니다.\n",
    "\n",
    "> <b>50 23 28-31 ** /usr/bin/test $(date -d '+1 day' + %d) -eq 1 && <실행할 명령어></b>\n",
    "\n",
    "또한 cron은 표준 출력 또는 오류 출력이 있으면 메일을 줍니다. 이러한 기능을 비활성화하고 싶을 때는 crontab의 앞에 MAILTO를 비워둡니다.\n",
    "\n",
    "> <b>MAILTO=\"\"</b>"
   ]
  },
  {
   "cell_type": "code",
   "execution_count": null,
   "metadata": {
    "collapsed": true
   },
   "outputs": [],
   "source": []
  }
 ],
 "metadata": {
  "kernelspec": {
   "display_name": "Python 3",
   "language": "python",
   "name": "python3"
  },
  "language_info": {
   "codemirror_mode": {
    "name": "ipython",
    "version": 3
   },
   "file_extension": ".py",
   "mimetype": "text/x-python",
   "name": "python",
   "nbconvert_exporter": "python",
   "pygments_lexer": "ipython3",
   "version": "3.6.1"
  }
 },
 "nbformat": 4,
 "nbformat_minor": 2
}
